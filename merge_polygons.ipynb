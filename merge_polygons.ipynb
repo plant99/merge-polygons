{
 "cells": [
  {
   "cell_type": "code",
   "execution_count": 8,
   "metadata": {},
   "outputs": [
    {
     "ename": "ModuleNotFoundError",
     "evalue": "No module named 'pygeos'",
     "output_type": "error",
     "traceback": [
      "\u001b[0;31m---------------------------------------------------------------------------\u001b[0m",
      "\u001b[0;31mModuleNotFoundError\u001b[0m                       Traceback (most recent call last)",
      "\u001b[0;32m<ipython-input-8-227a4fae6191>\u001b[0m in \u001b[0;36m<module>\u001b[0;34m\u001b[0m\n\u001b[1;32m      1\u001b[0m \u001b[0;32mfrom\u001b[0m \u001b[0mshapely\u001b[0m\u001b[0;34m.\u001b[0m\u001b[0mgeometry\u001b[0m \u001b[0;32mimport\u001b[0m \u001b[0mPolygon\u001b[0m\u001b[0;34m,\u001b[0m \u001b[0mPoint\u001b[0m\u001b[0;34m\u001b[0m\u001b[0;34m\u001b[0m\u001b[0m\n\u001b[1;32m      2\u001b[0m \u001b[0;32mfrom\u001b[0m \u001b[0mshapely\u001b[0m\u001b[0;34m.\u001b[0m\u001b[0mops\u001b[0m \u001b[0;32mimport\u001b[0m \u001b[0mcascaded_union\u001b[0m\u001b[0;34m\u001b[0m\u001b[0;34m\u001b[0m\u001b[0m\n\u001b[0;32m----> 3\u001b[0;31m \u001b[0;32mfrom\u001b[0m \u001b[0mpygeos\u001b[0m \u001b[0;32mimport\u001b[0m \u001b[0mGeometry\u001b[0m\u001b[0;34m\u001b[0m\u001b[0;34m\u001b[0m\u001b[0m\n\u001b[0m\u001b[1;32m      4\u001b[0m \u001b[0;32mimport\u001b[0m \u001b[0mfolium\u001b[0m\u001b[0;34m\u001b[0m\u001b[0;34m\u001b[0m\u001b[0m\n\u001b[1;32m      5\u001b[0m p1 = Polygon([\n",
      "\u001b[0;31mModuleNotFoundError\u001b[0m: No module named 'pygeos'"
     ]
    }
   ],
   "source": [
    "from shapely.geometry import Polygon, Point\n",
    "from shapely.ops import cascaded_union\n",
    "from pygeos import Geometry\n",
    "import folium\n",
    "p1 = Polygon([\n",
    "      (\n",
    "        -72.2779369,\n",
    "        42.9272056\n",
    "      ),\n",
    "      (\n",
    "        -72.2778833,\n",
    "        42.9253673\n",
    "      ),\n",
    "      (\n",
    "        -72.2757268,\n",
    "        42.9254302\n",
    "      ),\n",
    "      (\n",
    "        -72.2758663,\n",
    "        42.9272685\n",
    "      ),\n",
    "      (\n",
    "        -72.2779369,\n",
    "        42.9272056\n",
    "      )\n",
    "    ])\n",
    "p2 = Polygon([\n",
    "      (\n",
    "        -72.2751045,\n",
    "        42.9279991\n",
    "      ),\n",
    "      (\n",
    "        -72.2768211,\n",
    "        42.9270328\n",
    "      ),\n",
    "      (\n",
    "        -72.2763169,\n",
    "        42.9265772\n",
    "      ),\n",
    "      (\n",
    "        -72.2766709,\n",
    "        42.9261844\n",
    "      ),\n",
    "      (\n",
    "        -72.2758234,\n",
    "        42.9255087\n",
    "      ),\n",
    "      (\n",
    "        -72.2748256,\n",
    "        42.9267971\n",
    "      ),\n",
    "      (\n",
    "        -72.2751045,\n",
    "        42.9279991\n",
    "      )])\n",
    "print(p1.intersects(p2))\n",
    "\n",
    "def merge(p1, p2, intersection_with_former=True):\n",
    "    if intersection_with_former:\n",
    "        p2new = p2.difference(p1)\n",
    "        p1new = p1\n",
    "    else:\n",
    "        p1new = p1.difference(p2)\n",
    "        p2new = p2\n",
    "    return p1new, p2new"
   ]
  },
  {
   "cell_type": "code",
   "execution_count": 3,
   "metadata": {},
   "outputs": [],
   "source": [
    "p1new, p2new = (p1.difference(p2), p2.difference(p1))"
   ]
  },
  {
   "cell_type": "code",
   "execution_count": 4,
   "metadata": {
    "scrolled": true
   },
   "outputs": [
    {
     "name": "stdout",
     "output_type": "stream",
     "text": [
      "(-72.27643296687788, 42.92725128598154)\n",
      "6371 12813\n"
     ]
    }
   ],
   "source": [
    "m = folium.Map(location=[42.9271, -72.2751045],\n",
    "                   tiles='OpenStreetMap', zoom_start=16)\n",
    "x = p1.intersection(p2)\n",
    "# m.choropleth(geo_data=p2new)\n",
    "\n",
    "# converting to list of lists\n",
    "coordinates = x.exterior.coords\n",
    "minlat, minlon, maxlat, maxlon = (coordinates[0][0], coordinates[0][1], coordinates[0][0], coordinates[0][1])\n",
    "print(coordinates[0])\n",
    "for i, coord in enumerate(coordinates):\n",
    "    minlat = min(minlat, coord[0])\n",
    "    minlon = min(minlon, coord[1])\n",
    "    maxlat = max(maxlat, coord[0])\n",
    "    maxlon = max(maxlon, coord[1])\n",
    "\n",
    "# loop through coordinates and distances, double for loop for latitude and longitude.\n",
    "# check distance from p1 and p2. keep merging it with the polygon with appropriate distance\n",
    "\n",
    "delta = 0.00001\n",
    "lat = minlat\n",
    "\n",
    "count1 = 0\n",
    "count2 = 0\n",
    "p1new_buffer = []\n",
    "p2new_buffer = []\n",
    "while lat < maxlat:\n",
    "    \n",
    "    lon = minlon\n",
    "    while lon < maxlon:\n",
    "        point = Point(lat+(delta/2), lon+(delta/2))\n",
    "        poly = Polygon([\n",
    "            (lat, lon),\n",
    "            (lat + delta, lon),\n",
    "            (lat + delta, lon + delta),\n",
    "            (lat, lon + delta)\n",
    "        ])\n",
    "        d1 = point.distance(p1new)\n",
    "        d2 = point.distance(p2new)\n",
    "        if d1 > d2:\n",
    "            count1 += 1\n",
    "            p2new_buffer.append(poly)\n",
    "        else:\n",
    "            count2 += 1\n",
    "            p1new_buffer.append(poly)\n",
    "        lon += delta\n",
    "    lat += delta\n",
    "\n",
    "print(count1, count2)\n",
    "p1new_buffer.append(p1new)\n",
    "p1new = cascaded_union(p1new_buffer)\n",
    "\n",
    "p2new_buffer.append(p2new)\n",
    "p2new = cascaded_union(p2new_buffer)"
   ]
  },
  {
   "cell_type": "code",
   "execution_count": 5,
   "metadata": {},
   "outputs": [
    {
     "name": "stderr",
     "output_type": "stream",
     "text": [
      "/Users/shivashis.ext/Documents/grofers/grf-p/lib/python3.7/site-packages/folium/folium.py:415: FutureWarning: The choropleth  method has been deprecated. Instead use the new Choropleth class, which has the same arguments. See the example notebook 'GeoJSON_and_choropleth' for how to do this.\n",
      "  FutureWarning\n"
     ]
    }
   ],
   "source": [
    "m.choropleth(geo_data=p2new)\n",
    "# m"
   ]
  },
  {
   "cell_type": "code",
   "execution_count": 6,
   "metadata": {},
   "outputs": [
    {
     "data": {
      "text/plain": [
       "(-72.2768211, 42.9255087, -72.27574084613964, 42.9272685)"
      ]
     },
     "execution_count": 6,
     "metadata": {},
     "output_type": "execute_result"
    }
   ],
   "source": [
    "minlat, minlon, maxlat, maxlon"
   ]
  },
  {
   "cell_type": "code",
   "execution_count": 7,
   "metadata": {
    "scrolled": true
   },
   "outputs": [
    {
     "data": {
      "text/plain": [
       "[(-72.27643296687788, 42.92725128598154),\n",
       " (-72.2758663, 42.9272685),\n",
       " (-72.27574084613964, 42.92561529690687),\n",
       " (-72.2758234, 42.9255087),\n",
       " (-72.2766709, 42.9261844),\n",
       " (-72.2763169, 42.9265772),\n",
       " (-72.2768211, 42.9270328),\n",
       " (-72.27643296687788, 42.92725128598154)]"
      ]
     },
     "execution_count": 7,
     "metadata": {},
     "output_type": "execute_result"
    }
   ],
   "source": [
    "coordinates[0:]"
   ]
  },
  {
   "cell_type": "code",
   "execution_count": null,
   "metadata": {},
   "outputs": [],
   "source": []
  },
  {
   "cell_type": "code",
   "execution_count": null,
   "metadata": {},
   "outputs": [],
   "source": []
  },
  {
   "cell_type": "code",
   "execution_count": null,
   "metadata": {},
   "outputs": [],
   "source": []
  }
 ],
 "metadata": {
  "kernelspec": {
   "display_name": "grf-p",
   "language": "python",
   "name": "grf-p"
  },
  "language_info": {
   "codemirror_mode": {
    "name": "ipython",
    "version": 3
   },
   "file_extension": ".py",
   "mimetype": "text/x-python",
   "name": "python",
   "nbconvert_exporter": "python",
   "pygments_lexer": "ipython3",
   "version": "3.7.6"
  }
 },
 "nbformat": 4,
 "nbformat_minor": 4
}
